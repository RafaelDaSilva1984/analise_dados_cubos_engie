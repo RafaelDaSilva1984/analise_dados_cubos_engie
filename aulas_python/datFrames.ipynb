{
 "cells": [
  {
   "cell_type": "markdown",
   "metadata": {},
   "source": [
    "Aula De Dataframes - Tabelas Com Linhas E Colunas\n",
    "Linhas = Registros = Nomes, Códigos\n",
    "Colunas = Propriedade Ou Propriedade\n",
    "\n",
    "Padrão de uso :\n",
    "Pandas = pd"
   ]
  },
  {
   "cell_type": "code",
   "execution_count": 11,
   "metadata": {},
   "outputs": [
    {
     "name": "stdout",
     "output_type": "stream",
     "text": [
      "   idade genero  peso  altura\n",
      "0     36      f    63    1.67\n",
      "1     35      m    68    1.69\n"
     ]
    }
   ],
   "source": [
    "import pandas as pd\n",
    "print('DataFrame apartir de um dicionário')\n",
    "dict={\n",
    "    'idade':[36,35],\n",
    "    'genero':['f','m'],\n",
    "    'peso':[63,68],\n",
    "    'altura':[1.67,1.69]\n",
    "}\n",
    "data = pd.DataFrame(dict)\n",
    "print(data)"
   ]
  },
  {
   "cell_type": "code",
   "execution_count": 19,
   "metadata": {},
   "outputs": [
    {
     "name": "stdout",
     "output_type": "stream",
     "text": [
      "DataFrame apartir de uma lista\n",
      "   idade genero  peso  altura\n",
      "0     39      M  83.5    1.68\n",
      "1     37      F  54.0    1.57\n",
      "54.0\n",
      "39\n"
     ]
    }
   ],
   "source": [
    "print('DataFrame apartir de uma lista')\n",
    "matrix = [[39,'M',83.5,1.68],[37,'F',54,1.57]]\n",
    "cols = ['idade','genero','peso','altura']\n",
    "data =pd.DataFrame(matrix,columns = cols)#argumento columns = cols => nomes de colunas, sem o mesmo vira como indices iniciando em zero\n",
    "print(data)\n",
    "\n",
    "lin = 1\n",
    "col = 2\n",
    "\n",
    "#print(data.iloc[lin][col]) # iloc: usa var criada para se localizar entre colchetes separados\n",
    "#print(data.loc[0]['idade']) #loc usa o indice e o nome da coluna entre colchetes separados para se localizar\n",
    "\n",
    "print(data.iat[lin,col]) #iat: usa var criada para se localizar entre colchetes unicos separados por virgula\n",
    "print(data.at[0,'idade']) #at: usa o indice e o nome da coluna entre colchetes unicos separados por virgula"
   ]
  },
  {
   "cell_type": "code",
   "execution_count": 56,
   "metadata": {},
   "outputs": [
    {
     "name": "stdout",
     "output_type": "stream",
     "text": [
      "                             modelo   ano    preço combustivel\n",
      "0                     Maruti 800 AC  2007    60000      Petrol\n",
      "1          Maruti Wagon R LXI Minor  2007   135000      Petrol\n",
      "2              Hyundai Verna 1.6 SX  2012   600000      Diesel\n",
      "3            Datsun RediGO T Option  2017   250000      Petrol\n",
      "4             Honda Amaze VX i-DTEC  2014   450000      Diesel\n",
      "5              Maruti Alto LX BSIII  2007   140000      Petrol\n",
      "6         Hyundai Xcent 1.2 Kappa S  2016   550000      Petrol\n",
      "7          Tata Indigo Grand Petrol  2014   240000      Petrol\n",
      "8          Hyundai Creta 1.6 VTVT S  2015   850000      Petrol\n",
      "9          Maruti Celerio Green VXI  2017   365000         CNG\n",
      "10          Chevrolet Sail 1.2 Base  2015   260000      Petrol\n",
      "11         Tata Indigo Grand Petrol  2014   250000      Petrol\n",
      "12  Toyota Corolla Altis 1.8 VL CVT  2018  1650000      Petrol\n",
      "\n",
      "Modelo:  Maruti Alto LX BSIII R$: 140000\n",
      "\n",
      "Modelo:  Chevrolet Sail 1.2 Base ( 2015 ) : Petrol\n"
     ]
    }
   ],
   "source": [
    "carros = {\n",
    "    'modelo': ['Maruti 800 AC','Maruti Wagon R LXI Minor','Hyundai Verna 1.6 SX', 'Datsun RediGO T Option', 'Honda Amaze VX i-DTEC', 'Maruti Alto LX BSIII', 'Hyundai Xcent 1.2 Kappa S', 'Tata Indigo Grand Petrol', 'Hyundai Creta 1.6 VTVT S', 'Maruti Celerio Green VXI', 'Chevrolet Sail 1.2 Base', 'Tata Indigo Grand Petrol', 'Toyota Corolla Altis 1.8 VL CVT'],\n",
    "    'ano': [2007, 2007, 2012, 2017, 2014, 2007, 2016, 2014, 2015, 2017, 2015, 2014, 2018],\n",
    "    'preço': [60000, 135000, 600000, 250000, 450000, 140000, 550000, 240000, 850000, 365000, 260000, 250000, 1650000],\n",
    "    'combustivel': ['Petrol', 'Petrol', 'Diesel', 'Petrol', 'Diesel', 'Petrol', 'Petrol', 'Petrol', 'Petrol', 'CNG', 'Petrol', 'Petrol', 'Petrol']\n",
    "}\n",
    "tabela = pd.DataFrame(carros)\n",
    "print(tabela)\n",
    "print()\n",
    "print('Modelo: ',tabela.iat[5,0],'R$:', tabela.iat[5,2])\n",
    "print('Modelo: ',tabela.iat[10,0],'(',tabela.iat[10,1],') :', tabela.iat[10,3])"
   ]
  }
 ],
 "metadata": {
  "kernelspec": {
   "display_name": "Python 3",
   "language": "python",
   "name": "python3"
  },
  "language_info": {
   "codemirror_mode": {
    "name": "ipython",
    "version": 3
   },
   "file_extension": ".py",
   "mimetype": "text/x-python",
   "name": "python",
   "nbconvert_exporter": "python",
   "pygments_lexer": "ipython3",
   "version": "3.11.8"
  }
 },
 "nbformat": 4,
 "nbformat_minor": 2
}

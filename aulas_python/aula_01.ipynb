{
 "cells": [
  {
   "cell_type": "markdown",
   "metadata": {},
   "source": []
  },
  {
   "cell_type": "markdown",
   "metadata": {},
   "source": [
    "Curso de Análise de Dados da Cubos Academy, início em 09/02/2024"
   ]
  },
  {
   "cell_type": "code",
   "execution_count": 5,
   "metadata": {},
   "outputs": [
    {
     "name": "stdout",
     "output_type": "stream",
     "text": [
      "Python para Análise de Dados\n"
     ]
    }
   ],
   "source": [
    "print('Python para Análise de Dados')"
   ]
  },
  {
   "cell_type": "markdown",
   "metadata": {},
   "source": [
    "Variáveis\n",
    "Texto: Nome\n",
    "Número Inteiro: Idade\n",
    "Número Decimal: Altura\n",
    "Data: Data de Nascimento\n",
    "\n"
   ]
  },
  {
   "cell_type": "code",
   "execution_count": 5,
   "metadata": {},
   "outputs": [
    {
     "name": "stdout",
     "output_type": "stream",
     "text": [
      "Tipos de Variáveis\n",
      "O Rafael, tem 39 anos, sua altura é 1.67cm e nasceu no dia 21/10/1984.\n",
      "O Rafael, nasceu em Entre Rios do Sul e sua população atual é: 2600\n"
     ]
    }
   ],
   "source": [
    "print('Tipos de Variáveis')\n",
    "nome = 'Rafael'\n",
    "idade = 39\n",
    "altura = 1.67\n",
    "data_nascimento = \"21/10/1984\"\n",
    "print(f'O {nome}, tem {idade} anos, sua altura é {altura}cm e nasceu no dia {data_nascimento}.')\n",
    "\n",
    "cidade = 'Entre Rios do Sul'\n",
    "populacao = 2600\n",
    "print(f'O {nome}, nasceu em {cidade} e sua população atual é: {populacao}')\n"
   ]
  },
  {
   "cell_type": "markdown",
   "metadata": {},
   "source": [
    "Tipos de Dados\n",
    "boolean = True e False => True\n",
    "int = inteiro => 39\n",
    "float = ponto flutuante => 1.67\n",
    "str = string => texto\n",
    "none = ausencia de valor"
   ]
  },
  {
   "cell_type": "code",
   "execution_count": 37,
   "metadata": {},
   "outputs": [
    {
     "name": "stdout",
     "output_type": "stream",
     "text": [
      "Tipos de Dados:  => Tratamento de Tipos:  =>Tipos Primitivos\n",
      "Converter tipos,para : int, float, str\n",
      "10 é = <class 'str'>\n",
      "convertido para inteiro  10\n",
      "convertido para float  10.0\n",
      "5.1 é =  <class 'float'>\n",
      "5.10 float convertido inteiro = 5\n",
      "convertido para float  5.1\n",
      "True é =  <class 'bool'>\n",
      "True = 1 e False = 0 então int é:  1\n",
      "5.10 é =  <class 'str'>\n",
      "1 + 1 é 2 é =  <class 'str'>\n",
      "<class 'str'>\n"
     ]
    }
   ],
   "source": [
    "print('Tipos de Dados: ', '=> Tratamento de Tipos: ','=>Tipos Primitivos' )\n",
    "dez_str = '10'\n",
    "decimal = 5.10\n",
    "booleano = True\n",
    "decimal_str = '5.10'\n",
    "txt = '1 + 1 é 2'\n",
    "\n",
    "print('Converter tipos,para : int, float, str')\n",
    "print(dez_str, 'é =', type(dez_str))\n",
    "print('convertido para inteiro ',int(dez_str))\n",
    "print('convertido para float ',float(dez_str))\n",
    "print(decimal,'é = ', type(decimal))\n",
    "print('5.10 float convertido inteiro =', int(decimal))\n",
    "print('convertido para float ',float(decimal))\n",
    "print(booleano,'é = ',type(booleano))\n",
    "print('True = 1 e False = 0 então int é: ',int(booleano))\n",
    "print(decimal_str,'é = ',type(decimal_str))\n",
    "print(txt,'é = ',type(txt))\n",
    "print(type(txt))"
   ]
  },
  {
   "cell_type": "markdown",
   "metadata": {},
   "source": [
    "Operações com Python Números e Strings\n",
    "Números :\n",
    "    soma: +\n",
    "    subtracao: -\n",
    "    multiplicação = *\n",
    "    divisão = /\n",
    "    divisao inteira = //\n",
    "    modulos = %\n",
    "    exponenciacao = **"
   ]
  },
  {
   "cell_type": "code",
   "execution_count": 66,
   "metadata": {},
   "outputs": [
    {
     "name": "stdout",
     "output_type": "stream",
     "text": [
      "Operações com Python Números :\n",
      "    soma: +    subtracao: -     multiplicação = *     divisão = /     \n",
      "    divisao inteira = //     modulos ou resto = %     exponenciacao = **\n",
      "W é:  x= 24 - y=6.0 = (w=18.0)\n",
      "Result = a = 6, b = 8.0, d = 1, g = 8, => W1 = 48.0 \n",
      "Par ou Impar\n",
      "10 é : Par\n"
     ]
    }
   ],
   "source": [
    "print('''Operações com Python Números :\n",
    "    soma: +    subtracao: -     multiplicação = *     divisão = /     \n",
    "    divisao inteira = //     modulos ou resto = %     exponenciacao = **''')\n",
    "\n",
    "x = (5+7)*2\n",
    "y = 12/(4-2)\n",
    "w = x - y\n",
    "print(f'W é:  x= {x} - y={y} = (w={w})')\n",
    "\n",
    "a = (7-1)\n",
    "g = (2**3)\n",
    "d = (5%2)\n",
    "b = (g/d)\n",
    "w1 = (a*b)\n",
    "print(f'Result = a = {a}, b = {b}, d = {d}, g = {g}, => W1 = {w1} ')\n",
    "\n",
    "print('Par ou Impar')\n",
    "num = 10\n",
    "if(num % 2 == 0):\n",
    "    print(num, 'é : Par')\n",
    "else:\n",
    "    print(num, 'é Impar')\n",
    "\n"
   ]
  },
  {
   "cell_type": "code",
   "execution_count": 23,
   "metadata": {},
   "outputs": [
    {
     "name": "stdout",
     "output_type": "stream",
     "text": [
      "Operações com Strings / Textos\n",
      "Concatenar strings = com símbolo +, e f fStrings\n",
      "\n",
      "Eu como 2 frutas no café da manhã: laranja e morango\n",
      "Eu como pela manhã 2 frutas: laranja e morango \n",
      "Comando Len, contagem de caracteres de uma string, ele conta os espaços Junto\n",
      "A frase acima possui  77 caracteres .\n",
      "\n",
      "Converter para Maiúsculas e Minúsculas\n",
      "comando len, contagem de caracteres de uma string, ele conta os espaços junto ,todas minúsculas .\n",
      "COMANDO LEN, CONTAGEM DE CARACTERES DE UMA STRING, ELE CONTA OS ESPAÇOS JUNTO ,todas maiúsculas .\n",
      "\n",
      "Argumento Replace  / Substituir\n",
      "\n",
      "Comando in se True ou False\n",
      "True\n",
      "False\n",
      "\n",
      "Exercícios\n",
      "15\n",
      "RAFAEL DA SILVA\n",
      "R-F-EL D- SILV-\n",
      "Rafael da Silva\n",
      "False\n",
      "\n",
      "Rafael da Silva\n",
      "\n",
      "O menu nome é Rafael da Silva mas muitos me chamam de : Rafa\n",
      "\n",
      "128  e  128\n",
      "127  e  130\n",
      "o cuiddo em identificar ponts críticos na estrutura atual da organização deve passar por modificações independentemente do processo de comunicação como um todo. \n",
      "desta maneira, o aumento do diálogo entre os diferentes setores produtivos causa impacto indireto na reavaliação das formas de ação. \n",
      "no entanto, não podemos esquecer que a crescente influência da mídia apresenta tendências no centido de aprovar a manutenção de alternativas às soluções ortodoxas.\n",
      "é claro que a execução dos ponts do programa representa uma abertura para a melhoria do cuiddo das direções preferenciais no centido do progresso. \n",
      "podemos já vislumbrar o modo pelo qual a expansão dos mercados mundiais maximiza as possibilidades por conta do investimento em reciclagem técnica. \n",
      "a certificação de metodologias que nos auxiliam a lidar com o julgamento imparcial das eventualidades exige o cuiddo e a precisão e a definição das condições financeiras \n",
      "e administrativas exigidas.\n",
      "O Cuidado Em Identificar Pontos Críticos Na Estrutura Atual Da Organização Deve Passar Por Modificações Independentemente Do Processo De Comunicação Como Um Todo. \n",
      "Desta Maneira, O Aumento Do Diálogo Entre Os Diferentes Setores Produtivos Causa Impacto Indireto Na Reavaliação Das Formas De Ação. \n",
      "No Entanto, Não Podemos Esquecer Que A Crescente Influência Da Mídia Apresenta Tendências No Sentido De Aprovar A Manutenção De Alternativas Às Soluções Ortodoxas.\n",
      "É Claro Que A Execução Dos Pontos Do Programa Representa Uma Abertura Para A Melhoria Do Cuidado Das Direções Preferenciais No Sentido Do Progresso. \n",
      "Podemos Já Vislumbrar O Modo Pelo Qual A Expansão Dos Mercados Mundiais Maximiza As Possibilidades Por Conta Do Investimento Em Reciclagem Técnica. \n",
      "A Certificação De Metodologias Que Nos Auxiliam A Lidar Com O Julgamento Imparcial Das Eventualidades Exige O Cuidado E A Precisão E A Definição Das Condições Financeiras \n",
      "E Administrativas Exigidas.\n",
      " neste sentido, o entendimento das metas propostas nos obriga à análise do remanejamento dos quadros \n",
      "funcionais. por outro lado, a percepção das dificuldades oferece uma interessante oportunidade para verificação \n",
      "dos métodos utilizados na avaliação de resultados. assim mesmo, a consolidação das estruturas promove a \n",
      "alavancagem dos relacionamentos verticais entre as hierarquias.a nível organizacional, a necessidade de \n",
      "renovação processual cumpre um papel essencial na formulação das posturas dos órgãos dirigentes com relação \n",
      "às suas atribuições. caros amigos, o novo modelo estrutural aqui preconizado garante a contribuição de um grupo \n",
      "importante na determinação das novas proposições. a prática cotidiana prova que a consulta aos diversos militantes\n",
      "agrega valor ao estabelecimento dos modos de operação convencionais. acima de tudo, é fundamental ressaltar que \n",
      "a constante divulgação das informações facilita a criação do sistema de formação de quadros que corresponde às \n",
      "necessidades. nunca é demais lembrar o peso e o significado destes problemas, uma vez que a complexidade dos \n",
      "estudos efetuados é uma das consequências das condições inegavelmente apropriadas.\n",
      "\n",
      "True\n",
      "False\n",
      "False\n",
      "False\n"
     ]
    }
   ],
   "source": [
    "print('Operações com Strings / Textos')\n",
    "print('Concatenar strings = com símbolo +, e f'' fStrings')\n",
    "print()\n",
    "qtd_frutas = 2\n",
    "fruta1 = 'laranja'\n",
    "fruta2 = 'morango'\n",
    "print(\"Eu como \" + str(qtd_frutas) + \" frutas no café da manhã: \" + fruta1 + \" e \"+ fruta2)\n",
    "print(f'Eu como pela manhã {qtd_frutas} frutas: {fruta1} e {fruta2} ')\n",
    "\n",
    "texto_len =('Comando Len, contagem de caracteres de uma string, ele conta os espaços Junto')\n",
    "print(texto_len)\n",
    "print(f'A frase acima possui  {len(texto_len)} caracteres .')\n",
    "print()\n",
    "print('Converter para Maiúsculas e Minúsculas')\n",
    "print(f'{texto_len.lower()} ,todas minúsculas .')\n",
    "print(f'{texto_len.upper()} ,todas maiúsculas .')\n",
    "print()\n",
    "texto_replace =('Comando Replace  / Substituir')\n",
    "print(texto_replace.replace('Comando', 'Argumento'))\n",
    "print()\n",
    "print('Comando in se True ou False')\n",
    "print('Comando' in texto_replace)\n",
    "print('kiwis'in fruta1)\n",
    "\n",
    "print()\n",
    "print('Exercícios')\n",
    "nome_completo = 'Rafael da Silva'\n",
    "print(len(nome_completo))\n",
    "print(nome_completo.upper())\n",
    "print(nome_completo.upper().replace('A','-'))\n",
    "print(nome_completo)\n",
    "print('p' in nome_completo)\n",
    "\n",
    "print()\n",
    "primeito_nome = 'Rafael'\n",
    "ultimo_nome = 'da Silva'\n",
    "print(primeito_nome + ' ' + ultimo_nome)\n",
    "\n",
    "print()\n",
    "primeito_nome = 'Rafael'\n",
    "ultimo_nome = 'da Silva'\n",
    "apelido = 'Rafa'\n",
    "print(f'O menu nome é {primeito_nome} {ultimo_nome} mas muitos me chamam de : {apelido}')\n",
    "\n",
    "print()\n",
    "str1 = 'n+MqY5X9b+DIh+9mQjLT89xDYylNaA4tARNQmqFCr9cz+27Jl3qxoxrmtST9VabY4LdBaTUQkjTK+xFq5g35T+hrp3XRiAbuJLqnGJPx1Z8T3WwAo8u1Hr3qR6u7vZxs'\n",
    "str2= 'n+MqY5X9b+DIh+9mQjLT89xDYylNaA4tARNQmqFCr9cz+27Jl3qxoxrmtST9VabY4LdBaTUQkjTK+xFq5g35T+hrp3XRiAbuJLqnGJPx1Z8T3WwAo8u1Hr3qR6u7vZxs'\n",
    "print(len(str1),' e ', len(str2))\n",
    "str3 = 'n+MqY5X9b+DIh+9mQjLT89xDylNaA4tARNQmqFCr9cz+27Jl3qxoxrmtST9VabY4LdBaTUQkjTK+xFq5g35T+hrp3XRiAbuJLqnGJPx1Z8T3WwAo8u1Hr3qR6u7vZxs'\n",
    "str4 = 'n+MqY5X9b+DIh+9mQjLT89xDYylNaA4tARNQmqFCr9cz+27Jl3qxoxrmtST9VabY4LdBaTUQkjTK+xFq5g35T+hrp3XRiAbuJLqnGJPx1Z8T3WwAo8u1Hr3qR6u7vZxs[]'\n",
    "print(len(str3),' e ', len(str4))\n",
    "\n",
    "texto1 = '''O cuiddo em identificar ponts críticos na estrutura atual da organização deve passar por modificações independentemente do processo de comunicação como um todo. \n",
    "Desta maneira, o aumento do diálogo entre os diferentes setores produtivos causa impacto indireto na reavaliação das formas de ação. \n",
    "No entanto, não podemos esquecer que a crescente influência da mídia apresenta tendências no centido de aprovar a manutenção de alternativas às soluções ortodoxas.\n",
    "É claro que a execução dos ponts do programa representa uma abertura para a melhoria do cuiddo das direções preferenciais no centido do progresso. \n",
    "Podemos já vislumbrar o modo pelo qual a expansão dos mercados mundiais maximiza as possibilidades por conta do investimento em reciclagem técnica. \n",
    "A certificação de metodologias que nos auxiliam a lidar com o julgamento imparcial das eventualidades exige o cuiddo e a precisão e a definição das condições financeiras \n",
    "e administrativas exigidas.'''\n",
    "texto1 = texto1.lower()\n",
    "print(texto1)\n",
    "texto1 = texto1.replace('ponts','pontos')\n",
    "texto1 = texto1.replace('centido','sentido')\n",
    "texto1 = texto1.replace('cuiddo','cuidado')\n",
    "texto1=texto1.title()\n",
    "print(texto1)\n",
    "\n",
    "texto2 = \"\"\" Neste sentido, o entendimento das metas propostas nos obriga à análise do remanejamento dos quadros \n",
    "funcionais. Por outro lado, a percepção das dificuldades oferece uma interessante oportunidade para verificação \n",
    "dos métodos utilizados na avaliação de resultados. Assim mesmo, a consolidação das estruturas promove a \n",
    "alavancagem dos relacionamentos verticais entre as hierarquias.A nível organizacional, a necessidade de \n",
    "renovação processual cumpre um papel essencial na formulação das posturas dos órgãos dirigentes com relação \n",
    "às suas atribuições. Caros amigos, o novo modelo estrutural aqui preconizado garante a contribuição de um grupo \n",
    "importante na determinação das novas proposições. A prática cotidiana prova que a consulta aos diversos militantes\n",
    "agrega valor ao estabelecimento dos modos de operação convencionais. Acima de tudo, é fundamental ressaltar que \n",
    "a constante divulgação das informações facilita a criação do sistema de formação de quadros que corresponde às \n",
    "necessidades. Nunca é demais lembrar o peso e o significado destes problemas, uma vez que a complexidade dos \n",
    "estudos efetuados é uma das consequências das condições inegavelmente apropriadas.\n",
    "\"\"\"\n",
    "texto2 = texto2.lower()\n",
    "print(texto2)\n",
    "p1 =('Nível Organizacional')\n",
    "p2 =('Divulgação de Informações')\n",
    "p3 =('frequência de Publicações')\n",
    "p4 =('Remanejamento dos Quadros')\n",
    "p1 = p1.lower()\n",
    "p2 = p2.lower()\n",
    "p3 = p3.lower()\n",
    "p4 = p3.lower()\n",
    "print(p1 in texto2)\n",
    "print(p2 in texto2)\n",
    "print(p3 in texto2)\n",
    "print(p3 in texto2)\n",
    "\n"
   ]
  }
 ],
 "metadata": {
  "kernelspec": {
   "display_name": "Python 3",
   "language": "python",
   "name": "python3"
  },
  "language_info": {
   "codemirror_mode": {
    "name": "ipython",
    "version": 3
   },
   "file_extension": ".py",
   "mimetype": "text/x-python",
   "name": "python",
   "nbconvert_exporter": "python",
   "pygments_lexer": "ipython3",
   "version": "3.11.8"
  }
 },
 "nbformat": 4,
 "nbformat_minor": 2
}

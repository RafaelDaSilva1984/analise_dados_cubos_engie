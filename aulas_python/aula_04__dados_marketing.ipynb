{
 "cells": [
  {
   "cell_type": "code",
   "execution_count": 2,
   "metadata": {},
   "outputs": [
    {
     "data": {
      "text/plain": [
       "80.0"
      ]
     },
     "execution_count": 2,
     "metadata": {},
     "output_type": "execute_result"
    }
   ],
   "source": [
    "#cpm de impressões = R$ 8.00 a cada 1000 impressões\n",
    "cpm = 8\n",
    "impressoes = 10000\n",
    "custo = cpm*(impressoes/1000)\n",
    "custo"
   ]
  },
  {
   "cell_type": "code",
   "execution_count": 3,
   "metadata": {},
   "outputs": [
    {
     "data": {
      "text/plain": [
       "0.375"
      ]
     },
     "execution_count": 3,
     "metadata": {},
     "output_type": "execute_result"
    }
   ],
   "source": [
    "#ctr 1500 cliques e 400000 impressões\n",
    "cliques = 1500\n",
    "impressoes = 400000\n",
    "ctr=(cliques/impressoes)*100\n",
    "ctr"
   ]
  },
  {
   "cell_type": "code",
   "execution_count": 4,
   "metadata": {},
   "outputs": [
    {
     "data": {
      "text/plain": [
       "{'id': 1,\n",
       " 'investimento': 80000,\n",
       " 'cliques': 100,\n",
       " 'impressoes': 120000,\n",
       " 'classificacao': 'Precisa Ajustes'}"
      ]
     },
     "execution_count": 4,
     "metadata": {},
     "output_type": "execute_result"
    }
   ],
   "source": [
    "#cpc de classificacao de anuncios de marketing\n",
    "#cpc >= 40$ \"precisa ajustes\"\n",
    "#cpc < 40$ e cpc >= 20 \"desempenho mediano/analisar ctr\"\n",
    "#cpc < 20 \"bom desempenho\"\n",
    "anuncio ={'id':1,'investimento':80000,'cliques':100,'impressoes':120000}\n",
    "#criando variaveis referente ao anuncio\n",
    "cliques=anuncio['cliques']\n",
    "impressoes=anuncio['impressoes']\n",
    "id =  anuncio['id']\n",
    "investimento = anuncio['investimento']\n",
    "#calcular cpc\n",
    "cpc = investimento/cliques\n",
    "cpc\n",
    "#criar nova chave no dicionário com a classificação\n",
    "def cpc_investimentos(cpc):\n",
    "    if(cpc >= 40):\n",
    "         anuncio['classificacao'] ='Precisa Ajustes'\n",
    "    elif(cpc < 40 and cpc >= 20):\n",
    "          anuncio['classificacao'] = 'Desempenho Mediano/Analisar Ctr'\n",
    "    else:\n",
    "          anuncio['classificacao'] ='Bom Desempenho'\n",
    "cpc_investimentos(cpc)\n",
    "anuncio\n"
   ]
  },
  {
   "cell_type": "code",
   "execution_count": 5,
   "metadata": {},
   "outputs": [
    {
     "name": "stdout",
     "output_type": "stream",
     "text": [
      "A média é: 11.11,\n",
      "os cliques foram [41, 13, 11, 9, 7, 7, 5, 4, 3],\n",
      "Total de 100 cliques,\n",
      "Total de impressões: 27373\n"
     ]
    }
   ],
   "source": [
    "anuncio =[\n",
    "    {\n",
    "        \"Query\": \"miratrix\",\n",
    "        \"Clicks\": 41,\n",
    "        \"Impressions\": 710,\n",
    "        \"CTR\": \"9.34%\",\n",
    "        \"Position\": 6.23\n",
    "    },\n",
    "    {\n",
    "        \"Query\": \"app marketing agency uk\",\n",
    "        \"Clicks\": 13,\n",
    "        \"Impressions\": 398,\n",
    "        \"CTR\": \"5.78%\",\n",
    "        \"Position\": 3.36\n",
    "    },\n",
    "    {\n",
    "        \"Query\": \"mobile marketing agency london\",\n",
    "        \"Clicks\": 11,\n",
    "        \"Impressions\": 2529,\n",
    "        \"CTR\": \"0.43%\",\n",
    "        \"Position\": 3.97\n",
    "    },\n",
    "    {\n",
    "        \"Query\": \"app marketing uk\",\n",
    "        \"Clicks\": 9,\n",
    "        \"Impressions\": 261,\n",
    "        \"CTR\": \"3.45%\",\n",
    "        \"Position\": 2.01\n",
    "    },\n",
    "    {\n",
    "        \"Query\": \"app marketing agency\",\n",
    "        \"Clicks\": 7,\n",
    "        \"Impressions\": 9860,\n",
    "        \"CTR\": \"0.07%\",\n",
    "        \"Position\": 39.21\n",
    "    },\n",
    "    {\n",
    "        \"Query\": \"mobile marketing agency\",\n",
    "        \"Clicks\": 7,\n",
    "        \"Impressions\": 5361,\n",
    "        \"CTR\": \"0.13%\",\n",
    "        \"Position\": 21.81\n",
    "    },\n",
    "    {\n",
    "        \"Query\": \"mobile app marketing agency\",\n",
    "        \"Clicks\": 5,\n",
    "        \"Impressions\": 6057,\n",
    "        \"CTR\": \"0.08%\",\n",
    "        \"Position\": 44.85\n",
    "    },\n",
    "    {\n",
    "        \"Query\": \"aso audit\",\n",
    "        \"Clicks\": 4,\n",
    "        \"Impressions\": 112,\n",
    "        \"CTR\": \"4.46%\",\n",
    "        \"Position\": 55.86\n",
    "    },\n",
    "    {\n",
    "        \"Query\": \"mobile advertising agency\",\n",
    "        \"Clicks\": 3,\n",
    "        \"Impressions\": 2085,\n",
    "        \"CTR\": \"0.19%\",\n",
    "        \"Position\": 25.14\n",
    "    }\n",
    "]\n",
    "cliques = []\n",
    "impressoes = []\n",
    "soma=0 \n",
    "n = 0\n",
    "for chave_dict in anuncio:\n",
    "    #print(item['Clicks'])\n",
    "    cliques.append(chave_dict['Clicks'])\n",
    "    impressoes.append(chave_dict['Impressions'])\n",
    "    #soma += chave_dict['Clicks'] \n",
    "    soma=sum(cliques)\n",
    "    soma_imp=sum(impressoes)\n",
    "    n+=1\n",
    "#print(soma)\n",
    "media=soma/n #ou len(anuncio)\n",
    "media, cliques, soma\n",
    "print(f'A média é: {media:.2f},\\nos cliques foram {cliques},\\nTotal de {soma} cliques,\\nTotal de impressões: {soma_imp}')\n"
   ]
  },
  {
   "cell_type": "code",
   "execution_count": 13,
   "metadata": {},
   "outputs": [
    {
     "name": "stdout",
     "output_type": "stream",
     "text": [
      "A mediana é:  7  da lista  [3, 4, 5, 7, 7, 9, 11, 13, 41]\n"
     ]
    },
    {
     "data": {
      "text/plain": [
       "7.0"
      ]
     },
     "execution_count": 13,
     "metadata": {},
     "output_type": "execute_result"
    }
   ],
   "source": [
    "#calcular media do anuncio\n",
    "#ordenando lista\n",
    "cliques_ordenados = sorted(cliques)\n",
    "n_cliques = len(cliques_ordenados)\n",
    "#calculo mediana \n",
    "if n_cliques % 2 == 0:\n",
    "    mediana_1= cliques_ordenados[n_cliques//2] #par\n",
    "    mediana_2= cliques_ordenados[n_cliques//2-1] #par\n",
    "    mediana_cliques = (mediana_1 + mediana_2) / 2 #par\n",
    "else:\n",
    "    mediana_cliques = cliques_ordenados[n_cliques//2]\n",
    "print(\"A mediana é: \", mediana_cliques,\" da lista \", cliques_ordenados)\n",
    "#utilizando a biblioteca numpy\n",
    "import numpy as np\n",
    "mediana_lista = np.median(cliques_ordenados)\n",
    "mediana_lista"
   ]
  },
  {
   "cell_type": "code",
   "execution_count": 16,
   "metadata": {},
   "outputs": [
    {
     "name": "stdout",
     "output_type": "stream",
     "text": [
      "Cpc = investimentos / cliques\n"
     ]
    },
    {
     "data": {
      "text/plain": [
       "(900.0, 1428.5714285714287)"
      ]
     },
     "execution_count": 16,
     "metadata": {},
     "output_type": "execute_result"
    }
   ],
   "source": [
    "print('Cpc = investimentos / cliques')\n",
    "investimentos = 10000\n",
    "cpc_media = investimentos/media\n",
    "cpc_mediana = investimentos/mediana_lista\n",
    "cpc_media, cpc_mediana\n",
    "# A media não é a medida de tendencia ideal, ela substima o investimento, leva em consideração os outliers"
   ]
  },
  {
   "cell_type": "code",
   "execution_count": 32,
   "metadata": {},
   "outputs": [
    {
     "name": "stdout",
     "output_type": "stream",
     "text": [
      "Custo de Aquisição: investimento de R$120000,00, 40 unids vendidas a R$ 20000,00, qual CPA\n",
      "Com Investimento de 120000 e unidade de conversão = a 40, o CPA será de: 3000.0\n"
     ]
    }
   ],
   "source": [
    "print('Custo de Aquisição: investimento de R$120000,00, 40 unids vendidas a R$ 20000,00, qual CPA')\n",
    "def calcular_cpa(investimento_cpa, conversoes_und):\n",
    "    if conversoes_und == 0:\n",
    "        cpa = investimento_cpa  \n",
    "    else:        \n",
    "        cpa = investimento_cpa / conversoes_und\n",
    "    return cpa\n",
    "investimento_cpa = 120000\n",
    "conversoes_und = 40\n",
    "cpa_conv40 = calcular_cpa(investimento_cpa,conversoes_und)\n",
    "print(f'Com Investimento de {investimento_cpa} e unidade de conversão = a {conversoes_und}, o CPA será de: {cpa_conv40}')"
   ]
  },
  {
   "cell_type": "code",
   "execution_count": 55,
   "metadata": {},
   "outputs": [
    {
     "name": "stdout",
     "output_type": "stream",
     "text": [
      "Calcular o ROAS, referente a: investimento de R$120000,00, 40 unids a R$ 20000,00. ROAS receita/investimento, retorno por valor investido\n",
      "Receita=  800000\n",
      "Roas=  6.666666666666667\n"
     ]
    }
   ],
   "source": [
    "print('Calcular o ROAS, referente a: investimento de R$120000,00, 40 unids a R$ 20000,00. ROAS receita/investimento, retorno por valor investido')\n",
    "def calcular_receita(numero_vendas,valor_produto):\n",
    "    receita_produto = numero_vendas * valor_produto\n",
    "    return receita_produto\n",
    "receita = calcular_receita(vendas,valor_produto)\n",
    "def calcular_roaz(receita, investimento_cpa):\n",
    "    if investimento_cpa == 0.0:\n",
    "        roas = 0.0 \n",
    "    else:       \n",
    "        roas = receita/investimento_cpa\n",
    "    return roas\n",
    "valor_produto = 20000\n",
    "vendas = conversoes_und\n",
    "\n",
    "roas =calcular_roaz(receita, investimento_cpa)\n",
    "print('Receita= ',receita)\n",
    "print('Roas= ',roas)"
   ]
  },
  {
   "cell_type": "code",
   "execution_count": 60,
   "metadata": {},
   "outputs": [
    {
     "name": "stdout",
     "output_type": "stream",
     "text": [
      "Calcula numero de cliques para gerar um ROAS de 3, cpc = R$1.00, onde a receita é R$ 50000\n",
      "Cliques 16666.666666666668\n"
     ]
    }
   ],
   "source": [
    "print('Calcula numero de cliques para gerar um ROAS de 3, cpc = R$1.00, onde a receita é R$ 50000')\n",
    "# cpc = investimento / cliques\n",
    "# investimento = cpc * cliques\n",
    "# roas = receita / investimento\n",
    "# roas * investimento = receita\n",
    "# roas por numero de cliques  roas*cpc*cliques=Receita\n",
    "# cliques = receita / roas * cpc\n",
    "\n",
    "roas = 3\n",
    "cpc = 1\n",
    "receita = 50000\n",
    "cliques = receita /(roas*cpc)\n",
    "print('Cliques', cliques)"
   ]
  },
  {
   "cell_type": "code",
   "execution_count": 97,
   "metadata": {},
   "outputs": [
    {
     "name": "stdout",
     "output_type": "stream",
     "text": [
      "Análise What-If : Receita = Valor_Produto * Quantidade Vendida\n",
      "[15000, 30000, 45000, 60000, 66000, 64500, 75000, 90000, 105000, 120000, 135000, 150000]\n"
     ]
    },
    {
     "data": {
      "text/plain": [
       "'for item in cliques:\\n    n_item = item * (roas*cpc)\\n    receitas.append(n_item)    \\nprint(receitas)'"
      ]
     },
     "execution_count": 97,
     "metadata": {},
     "output_type": "execute_result"
    }
   ],
   "source": [
    "print('Análise What-If : Receita = Valor_Produto * Quantidade Vendida')\n",
    "'''valor_produto = 100\n",
    "    receita = 100 * 1 = 100\n",
    "    receita = 100 * 10 = 1000\n",
    "    receita = 100 * 100 = 10000'''\n",
    "    \n",
    "\n",
    "\n",
    "def calcula_receita(roas, cpc):\n",
    "    for item in cliques:\n",
    "        n_item = item * (roas*cpc)\n",
    "        receitas.append(n_item)\n",
    "    return receita\n",
    "roas = 3\n",
    "cpc = 1\n",
    "cliques = [5000,10000,15000,20000,22000,21500,25000,30000,35000,40000,45000,50000]\n",
    "receitas = [] \n",
    "result = calcula_receita(roas, cpc)\n",
    "print(result)\n",
    "\n",
    "'''for item in cliques:\n",
    "    n_item = item * (roas*cpc)\n",
    "    receitas.append(n_item)    \n",
    "print(receitas)'''"
   ]
  }
 ],
 "metadata": {
  "kernelspec": {
   "display_name": "Python 3",
   "language": "python",
   "name": "python3"
  },
  "language_info": {
   "codemirror_mode": {
    "name": "ipython",
    "version": 3
   },
   "file_extension": ".py",
   "mimetype": "text/x-python",
   "name": "python",
   "nbconvert_exporter": "python",
   "pygments_lexer": "ipython3",
   "version": "3.11.8"
  }
 },
 "nbformat": 4,
 "nbformat_minor": 2
}
